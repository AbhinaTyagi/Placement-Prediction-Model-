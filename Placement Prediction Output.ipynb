{
 "cells": [
  {
   "cell_type": "code",
   "execution_count": 1,
   "id": "27067b88-f6b4-4bc6-8fd3-0ef5bd5a9811",
   "metadata": {},
   "outputs": [],
   "source": [
    "import pickle \n",
    "import numpy as np"
   ]
  },
  {
   "cell_type": "code",
   "execution_count": 2,
   "id": "9573d8d9-3f9c-4b49-abf7-cbd8daa10e1a",
   "metadata": {},
   "outputs": [],
   "source": [
    "placement=pickle.load(open('Placement Prediction.pkl','rb'))"
   ]
  },
  {
   "cell_type": "code",
   "execution_count": 3,
   "id": "4ad3ebd6-5624-4b10-86eb-20c7d86f635f",
   "metadata": {},
   "outputs": [],
   "source": [
    "value=np.array([7.2,0,3,1,75,4.2,'No','No',61,82],dtype=object).reshape(1,10)"
   ]
  },
  {
   "cell_type": "code",
   "execution_count": 4,
   "id": "8790115d-588a-4b57-8dd4-edaef88a81db",
   "metadata": {},
   "outputs": [
    {
     "name": "stderr",
     "output_type": "stream",
     "text": [
      "C:\\Users\\Gungun Tyagi\\anaconda3\\Lib\\site-packages\\sklearn\\base.py:439: UserWarning: X does not have valid feature names, but OneHotEncoder was fitted with feature names\n",
      "  warnings.warn(\n",
      "C:\\Users\\Gungun Tyagi\\anaconda3\\Lib\\site-packages\\sklearn\\base.py:439: UserWarning: X does not have valid feature names, but StandardScaler was fitted with feature names\n",
      "  warnings.warn(\n"
     ]
    },
    {
     "data": {
      "text/plain": [
       "array([0])"
      ]
     },
     "execution_count": 4,
     "metadata": {},
     "output_type": "execute_result"
    }
   ],
   "source": [
    "placement.predict(value)"
   ]
  },
  {
   "cell_type": "code",
   "execution_count": null,
   "id": "85e81ec3-c776-40d6-a3b7-debc1e02566c",
   "metadata": {},
   "outputs": [],
   "source": []
  }
 ],
 "metadata": {
  "kernelspec": {
   "display_name": "Python 3 (ipykernel)",
   "language": "python",
   "name": "python3"
  },
  "language_info": {
   "codemirror_mode": {
    "name": "ipython",
    "version": 3
   },
   "file_extension": ".py",
   "mimetype": "text/x-python",
   "name": "python",
   "nbconvert_exporter": "python",
   "pygments_lexer": "ipython3",
   "version": "3.11.7"
  }
 },
 "nbformat": 4,
 "nbformat_minor": 5
}
